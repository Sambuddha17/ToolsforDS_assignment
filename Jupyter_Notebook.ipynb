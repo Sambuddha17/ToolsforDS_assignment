{
  "metadata": {
    "language_info": {
      "codemirror_mode": {
        "name": "python",
        "version": 3
      },
      "file_extension": ".py",
      "mimetype": "text/x-python",
      "name": "python",
      "nbconvert_exporter": "python",
      "pygments_lexer": "ipython3",
      "version": "3.8"
    },
    "kernelspec": {
      "name": "python",
      "display_name": "Pyolite",
      "language": "python"
    }
  },
  "nbformat_minor": 4,
  "nbformat": 4,
  "cells": [
    {
      "cell_type": "markdown",
      "source": "#  My Jupyter Notebook on IBM Watson Studio",
      "metadata": {}
    },
    {
      "cell_type": "markdown",
      "source": "**Sambuddha Sekhar**\n\nAnalyst",
      "metadata": {}
    },
    {
      "cell_type": "markdown",
      "source": "*I am interested in data science because I find it really interesting and it feels like something that I can see myself doing professionally.*",
      "metadata": {}
    },
    {
      "cell_type": "markdown",
      "source": "The Code below is used to find the absolute value of a number.",
      "metadata": {}
    },
    {
      "cell_type": "code",
      "source": "n = -32\nOutput = abs(n)\nprint(Output)",
      "metadata": {
        "trusted": true
      },
      "execution_count": 1,
      "outputs": [
        {
          "name": "stdout",
          "text": "32\n",
          "output_type": "stream"
        }
      ]
    },
    {
      "cell_type": "markdown",
      "source": "---\nThe Tools for Data Science Course on [Coursera](https://www.coursera.org/) is useful as a starting point to learn about:\n\n1. Different programming Languages used in Data Science, like\n    - Python\n    - R\n    - SQL\n    \n2. Different processes of data science model builing\n\n3. IBM's Watson Studio.\n\n***\n    ",
      "metadata": {}
    }
  ]
}